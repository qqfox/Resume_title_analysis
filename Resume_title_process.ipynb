{
 "cells": [
  {
   "cell_type": "markdown",
   "id": "c97671df-683a-43cf-aeb0-9ecfdc1354c1",
   "metadata": {},
   "source": [
    "Project statement:\n",
    "\n",
    "This project works to cluster the resume_title column and try to retrieve the core information about this dataset.\n",
    "In detail, the expectation is to see which categories/topic that this dataset is about. From here, the train set and test set for final thesis can avoid mismatch"
   ]
  },
  {
   "cell_type": "code",
   "execution_count": null,
   "id": "0214983c-b266-4db9-bbf9-a7eb95fd03c3",
   "metadata": {},
   "outputs": [],
   "source": [
    "import re\n",
    "import nltk\n",
    "import spacy\n",
    "import string\n",
    "import pandas as pd\n",
    "import numpy as np\n",
    "import matplotlib.pyplot as plt"
   ]
  },
  {
   "cell_type": "code",
   "execution_count": 30,
   "id": "f34ae7bd-7031-44df-806b-47f120621455",
   "metadata": {},
   "outputs": [
    {
     "name": "stderr",
     "output_type": "stream",
     "text": [
      "[nltk_data] Downloading package punkt to\n",
      "[nltk_data]     C:\\Users\\Quynhfox\\AppData\\Roaming\\nltk_data...\n",
      "[nltk_data]   Package punkt is already up-to-date!\n",
      "[nltk_data] Downloading package stopwords to\n",
      "[nltk_data]     C:\\Users\\Quynhfox\\AppData\\Roaming\\nltk_data...\n",
      "[nltk_data]   Package stopwords is already up-to-date!\n"
     ]
    }
   ],
   "source": [
    "import nltk\n",
    "nltk.download('punkt')\n",
    "from nltk.corpus import stopwords\n",
    "nltk.download('stopwords')\n",
    "from nltk.tokenize import word_tokenize"
   ]
  },
  {
   "cell_type": "code",
   "execution_count": 31,
   "id": "6d21a482-5bbf-4edf-932e-88004e083206",
   "metadata": {},
   "outputs": [
    {
     "name": "stdout",
     "output_type": "stream",
     "text": [
      "(14462, 9)\n"
     ]
    },
    {
     "data": {
      "text/html": [
       "<div>\n",
       "<style scoped>\n",
       "    .dataframe tbody tr th:only-of-type {\n",
       "        vertical-align: middle;\n",
       "    }\n",
       "\n",
       "    .dataframe tbody tr th {\n",
       "        vertical-align: top;\n",
       "    }\n",
       "\n",
       "    .dataframe thead th {\n",
       "        text-align: right;\n",
       "    }\n",
       "</style>\n",
       "<table border=\"1\" class=\"dataframe\">\n",
       "  <thead>\n",
       "    <tr style=\"text-align: right;\">\n",
       "      <th></th>\n",
       "      <th>Resume_title</th>\n",
       "      <th>City</th>\n",
       "      <th>State</th>\n",
       "      <th>Description</th>\n",
       "      <th>work_experiences</th>\n",
       "      <th>Educations</th>\n",
       "      <th>Skills</th>\n",
       "      <th>Certificates</th>\n",
       "      <th>Additional Information</th>\n",
       "    </tr>\n",
       "  </thead>\n",
       "  <tbody>\n",
       "    <tr>\n",
       "      <th>0</th>\n",
       "      <td>Java Developer</td>\n",
       "      <td>Tirur</td>\n",
       "      <td>Kerala</td>\n",
       "      <td>To prove myself dedicated, worthy and energeti...</td>\n",
       "      <td>{0: [{'wtitle:': 'Java Developer'}, {'wcompany...</td>\n",
       "      <td>{0: [{'e_title:': \"Bachelor's in Bachelor of C...</td>\n",
       "      <td>['Java (Less than 1 year)', ' Jsp (Less than 1...</td>\n",
       "      <td>{0: [{'c_title:': 'Java Developer'}, {'c_durat...</td>\n",
       "      <td>\\nTechnical Expertise \\n?? Operating Systems:...</td>\n",
       "    </tr>\n",
       "  </tbody>\n",
       "</table>\n",
       "</div>"
      ],
      "text/plain": [
       "     Resume_title   City    State  \\\n",
       "0  Java Developer  Tirur   Kerala   \n",
       "\n",
       "                                         Description  \\\n",
       "0  To prove myself dedicated, worthy and energeti...   \n",
       "\n",
       "                                    work_experiences  \\\n",
       "0  {0: [{'wtitle:': 'Java Developer'}, {'wcompany...   \n",
       "\n",
       "                                          Educations  \\\n",
       "0  {0: [{'e_title:': \"Bachelor's in Bachelor of C...   \n",
       "\n",
       "                                              Skills  \\\n",
       "0  ['Java (Less than 1 year)', ' Jsp (Less than 1...   \n",
       "\n",
       "                                        Certificates  \\\n",
       "0  {0: [{'c_title:': 'Java Developer'}, {'c_durat...   \n",
       "\n",
       "                              Additional Information  \n",
       "0  \\nTechnical Expertise \\n?? Operating Systems:...  "
      ]
     },
     "execution_count": 31,
     "metadata": {},
     "output_type": "execute_result"
    }
   ],
   "source": [
    "df = pd.read_csv('Resume_processing.csv')\n",
    "print(df.shape)\n",
    "df.head(1)"
   ]
  },
  {
   "cell_type": "code",
   "execution_count": 32,
   "id": "b01f791e-5c19-43a5-afd7-79748df23a9d",
   "metadata": {},
   "outputs": [
    {
     "name": "stdout",
     "output_type": "stream",
     "text": [
      "Resume_title              6\n",
      "City                      4\n",
      "State                     4\n",
      "Description               4\n",
      "work_experiences          6\n",
      "Educations                8\n",
      "Skills                    8\n",
      "Certificates              8\n",
      "Additional Information    8\n",
      "dtype: int64\n"
     ]
    }
   ],
   "source": [
    "print(df.isnull().sum())"
   ]
  },
  {
   "cell_type": "code",
   "execution_count": 33,
   "id": "e6fca2bf-cefa-4835-af2b-fcdce73048e6",
   "metadata": {},
   "outputs": [
    {
     "name": "stdout",
     "output_type": "stream",
     "text": [
      "(14454, 9)\n"
     ]
    }
   ],
   "source": [
    "df = df.dropna(axis = 0, how ='any')\n",
    "print(df.shape)"
   ]
  },
  {
   "cell_type": "code",
   "execution_count": 39,
   "id": "ff19fe93-9388-4b3f-88c3-a0fc17f0ebb5",
   "metadata": {},
   "outputs": [
    {
     "data": {
      "text/html": [
       "<div>\n",
       "<style scoped>\n",
       "    .dataframe tbody tr th:only-of-type {\n",
       "        vertical-align: middle;\n",
       "    }\n",
       "\n",
       "    .dataframe tbody tr th {\n",
       "        vertical-align: top;\n",
       "    }\n",
       "\n",
       "    .dataframe thead th {\n",
       "        text-align: right;\n",
       "    }\n",
       "</style>\n",
       "<table border=\"1\" class=\"dataframe\">\n",
       "  <thead>\n",
       "    <tr style=\"text-align: right;\">\n",
       "      <th></th>\n",
       "      <th>Resume_title</th>\n",
       "      <th>City</th>\n",
       "      <th>State</th>\n",
       "      <th>Description</th>\n",
       "      <th>work_experiences</th>\n",
       "      <th>Educations</th>\n",
       "      <th>Skills</th>\n",
       "      <th>Certificates</th>\n",
       "      <th>Additional Information</th>\n",
       "      <th>Cleaned_Resume</th>\n",
       "    </tr>\n",
       "  </thead>\n",
       "  <tbody>\n",
       "    <tr>\n",
       "      <th>0</th>\n",
       "      <td>java developer</td>\n",
       "      <td>tirur</td>\n",
       "      <td>kerala</td>\n",
       "      <td>to prove myself dedicated, worthy and energeti...</td>\n",
       "      <td>{0: [{'wtitle:': 'java developer'}, {'wcompany...</td>\n",
       "      <td>{0: [{'e_title:': \"bachelor's in bachelor of c...</td>\n",
       "      <td>['java (less than 1 year)', ' jsp (less than 1...</td>\n",
       "      <td>{0: [{'c_title:': 'java developer'}, {'c_durat...</td>\n",
       "      <td>\\ntechnical expertise \\n?? operating systems:...</td>\n",
       "      <td>java developer</td>\n",
       "    </tr>\n",
       "    <tr>\n",
       "      <th>1</th>\n",
       "      <td>software developer</td>\n",
       "      <td>bengaluru</td>\n",
       "      <td>karnataka</td>\n",
       "      <td>working as software developer at ingroinfo sof...</td>\n",
       "      <td>{0: [{'wtitle:': 'java developer'}, {'wcompany...</td>\n",
       "      <td>{0: [{'e_title:': 'mca in master of computer a...</td>\n",
       "      <td>['programming languages: core java', ' j2ee \\n...</td>\n",
       "      <td>{}</td>\n",
       "      <td>none</td>\n",
       "      <td>software developer</td>\n",
       "    </tr>\n",
       "    <tr>\n",
       "      <th>2</th>\n",
       "      <td>java developer</td>\n",
       "      <td>pune</td>\n",
       "      <td>maharashtra</td>\n",
       "      <td>looking for a challenging career which demands...</td>\n",
       "      <td>{0: [{'wtitle:': 'java developer'}, {'wcompany...</td>\n",
       "      <td>{0: [{'e_title:': \"bachelor's in electrical en...</td>\n",
       "      <td>['eclipse (1 year)', ' hibernate', ' spring (l...</td>\n",
       "      <td>{}</td>\n",
       "      <td>\\ntechnical skills \\n \\nframeworks: spring, sp...</td>\n",
       "      <td>java developer</td>\n",
       "    </tr>\n",
       "    <tr>\n",
       "      <th>3</th>\n",
       "      <td>seeking innovative and challenging career assi...</td>\n",
       "      <td>pune</td>\n",
       "      <td>maharashtra</td>\n",
       "      <td>none</td>\n",
       "      <td>{0: [{'wtitle:': 'java developer'}, {'wcompany...</td>\n",
       "      <td>{0: [{'e_title:': 'be in computer'}, {'e_schoo...</td>\n",
       "      <td>['git', ' angular 7', ' maven', ' java', ' jen...</td>\n",
       "      <td>{}</td>\n",
       "      <td>none</td>\n",
       "      <td>seeking innovative and challenging career assi...</td>\n",
       "    </tr>\n",
       "    <tr>\n",
       "      <th>4</th>\n",
       "      <td>none</td>\n",
       "      <td>pune</td>\n",
       "      <td>maharashtra</td>\n",
       "      <td>none</td>\n",
       "      <td>{0: [{'wtitle:': 'java developer'}, {'wcompany...</td>\n",
       "      <td>{0: [{'e_title:': 'bachelor of engineering in ...</td>\n",
       "      <td>['project: hr payroll systems role: java devel...</td>\n",
       "      <td>{}</td>\n",
       "      <td>none</td>\n",
       "      <td>none</td>\n",
       "    </tr>\n",
       "  </tbody>\n",
       "</table>\n",
       "</div>"
      ],
      "text/plain": [
       "                                        Resume_title       City         State  \\\n",
       "0                                     java developer      tirur        kerala   \n",
       "1                                 software developer  bengaluru     karnataka   \n",
       "2                                     java developer       pune   maharashtra   \n",
       "3  seeking innovative and challenging career assi...       pune   maharashtra   \n",
       "4                                               none       pune   maharashtra   \n",
       "\n",
       "                                         Description  \\\n",
       "0  to prove myself dedicated, worthy and energeti...   \n",
       "1  working as software developer at ingroinfo sof...   \n",
       "2  looking for a challenging career which demands...   \n",
       "3                                               none   \n",
       "4                                               none   \n",
       "\n",
       "                                    work_experiences  \\\n",
       "0  {0: [{'wtitle:': 'java developer'}, {'wcompany...   \n",
       "1  {0: [{'wtitle:': 'java developer'}, {'wcompany...   \n",
       "2  {0: [{'wtitle:': 'java developer'}, {'wcompany...   \n",
       "3  {0: [{'wtitle:': 'java developer'}, {'wcompany...   \n",
       "4  {0: [{'wtitle:': 'java developer'}, {'wcompany...   \n",
       "\n",
       "                                          Educations  \\\n",
       "0  {0: [{'e_title:': \"bachelor's in bachelor of c...   \n",
       "1  {0: [{'e_title:': 'mca in master of computer a...   \n",
       "2  {0: [{'e_title:': \"bachelor's in electrical en...   \n",
       "3  {0: [{'e_title:': 'be in computer'}, {'e_schoo...   \n",
       "4  {0: [{'e_title:': 'bachelor of engineering in ...   \n",
       "\n",
       "                                              Skills  \\\n",
       "0  ['java (less than 1 year)', ' jsp (less than 1...   \n",
       "1  ['programming languages: core java', ' j2ee \\n...   \n",
       "2  ['eclipse (1 year)', ' hibernate', ' spring (l...   \n",
       "3  ['git', ' angular 7', ' maven', ' java', ' jen...   \n",
       "4  ['project: hr payroll systems role: java devel...   \n",
       "\n",
       "                                        Certificates  \\\n",
       "0  {0: [{'c_title:': 'java developer'}, {'c_durat...   \n",
       "1                                                 {}   \n",
       "2                                                 {}   \n",
       "3                                                 {}   \n",
       "4                                                 {}   \n",
       "\n",
       "                              Additional Information  \\\n",
       "0  \\ntechnical expertise \\n?? operating systems:...   \n",
       "1                                               none   \n",
       "2  \\ntechnical skills \\n \\nframeworks: spring, sp...   \n",
       "3                                               none   \n",
       "4                                               none   \n",
       "\n",
       "                                      Cleaned_Resume  \n",
       "0                                     java developer  \n",
       "1                                 software developer  \n",
       "2                                     java developer  \n",
       "3  seeking innovative and challenging career assi...  \n",
       "4                                               none  "
      ]
     },
     "execution_count": 39,
     "metadata": {},
     "output_type": "execute_result"
    }
   ],
   "source": [
    "df['Cleaned_Resume'] = df.Resume_title\n",
    "df.head()"
   ]
  },
  {
   "cell_type": "code",
   "execution_count": 42,
   "id": "8eaabf0e-cfd8-446a-9d0e-b4c19476963a",
   "metadata": {},
   "outputs": [
    {
     "name": "stderr",
     "output_type": "stream",
     "text": [
      "<ipython-input-42-6b38b3250908>:5: FutureWarning: The default value of regex will change from True to False in a future version.\n",
      "  df[columns] = df[columns].str.replace('[^\\w\\s]+', '')\n"
     ]
    },
    {
     "data": {
      "text/html": [
       "<div>\n",
       "<style scoped>\n",
       "    .dataframe tbody tr th:only-of-type {\n",
       "        vertical-align: middle;\n",
       "    }\n",
       "\n",
       "    .dataframe tbody tr th {\n",
       "        vertical-align: top;\n",
       "    }\n",
       "\n",
       "    .dataframe thead th {\n",
       "        text-align: right;\n",
       "    }\n",
       "</style>\n",
       "<table border=\"1\" class=\"dataframe\">\n",
       "  <thead>\n",
       "    <tr style=\"text-align: right;\">\n",
       "      <th></th>\n",
       "      <th>Resume_title</th>\n",
       "      <th>City</th>\n",
       "      <th>State</th>\n",
       "      <th>Description</th>\n",
       "      <th>work_experiences</th>\n",
       "      <th>Educations</th>\n",
       "      <th>Skills</th>\n",
       "      <th>Certificates</th>\n",
       "      <th>Additional Information</th>\n",
       "      <th>Cleaned_Resume</th>\n",
       "    </tr>\n",
       "  </thead>\n",
       "  <tbody>\n",
       "    <tr>\n",
       "      <th>0</th>\n",
       "      <td>java developer</td>\n",
       "      <td>tirur</td>\n",
       "      <td>kerala</td>\n",
       "      <td>to prove myself dedicated worthy and energetic...</td>\n",
       "      <td>0 wtitle java developer wcompany n wcity none ...</td>\n",
       "      <td>0 e_title bachelors in bachelor of computer ap...</td>\n",
       "      <td>java less than 1 year  jsp less than 1 year  j...</td>\n",
       "      <td>0 c_title java developer c_duration june 2019 ...</td>\n",
       "      <td>\\ntechnical expertise \\n operating systems win...</td>\n",
       "      <td>java developer</td>\n",
       "    </tr>\n",
       "  </tbody>\n",
       "</table>\n",
       "</div>"
      ],
      "text/plain": [
       "     Resume_title   City    State  \\\n",
       "0  java developer  tirur   kerala   \n",
       "\n",
       "                                         Description  \\\n",
       "0  to prove myself dedicated worthy and energetic...   \n",
       "\n",
       "                                    work_experiences  \\\n",
       "0  0 wtitle java developer wcompany n wcity none ...   \n",
       "\n",
       "                                          Educations  \\\n",
       "0  0 e_title bachelors in bachelor of computer ap...   \n",
       "\n",
       "                                              Skills  \\\n",
       "0  java less than 1 year  jsp less than 1 year  j...   \n",
       "\n",
       "                                        Certificates  \\\n",
       "0  0 c_title java developer c_duration june 2019 ...   \n",
       "\n",
       "                              Additional Information  Cleaned_Resume  \n",
       "0  \\ntechnical expertise \\n operating systems win...  java developer  "
      ]
     },
     "execution_count": 42,
     "metadata": {},
     "output_type": "execute_result"
    }
   ],
   "source": [
    "#Lower Casing\n",
    "\n",
    "for columns in df.columns:\n",
    "    df[columns] = df[columns].str.lower()\n",
    "    df[columns] = df[columns].str.replace('[^\\w\\s]+', '')\n",
    "df.head(1)"
   ]
  },
  {
   "cell_type": "code",
   "execution_count": 43,
   "id": "7e5ec1f3-7ac8-4e0d-a8aa-73c1868b031e",
   "metadata": {},
   "outputs": [],
   "source": [
    "#getting the entire resume text\n",
    "corpus=\" \"\n",
    "for i in range(0,14454):\n",
    "    corpus= corpus+ ' ' + df[\"Cleaned_Resume\"].iloc[i]"
   ]
  },
  {
   "cell_type": "code",
   "execution_count": 44,
   "id": "51f11f78-3f85-4b7d-aa19-71d7261f1d5f",
   "metadata": {},
   "outputs": [
    {
     "name": "stdout",
     "output_type": "stream",
     "text": [
      "28364\n"
     ]
    }
   ],
   "source": [
    "import gensim\n",
    "from gensim.parsing.preprocessing import STOPWORDS\n",
    "\n",
    "all_stopwords_gensim = STOPWORDS.union(set(['possess', 'collections','new','high', 'learning','india', 'desire', 'capability', 'good','opportunity', \n",
    "                   'presentation', '8','7','9','skills', 'utilizing','6',  'skills','also', 'currently', 'living', 'delhi','provide',\n",
    "                   'please', 'let', 'know', 'completed',  'certification', 'knowledge', 'best', 'abilities', 'contribute', 'positively', \n",
    "                   'personal', 'growth', 'well', 'growth', 'organization', 'thinking', 'ability', 'work','mca', 'searching','innovative', \n",
    "                   'career', 'assignment','year', '1','2','3', '4','none','seeking', 'looking', 'chance', 'experience', 'experienced', 'working', \n",
    "                   'job', 'jobs', 'years', 'position', 'required', 'tata', 'consultancy', 'services', 'limited', 'brvisioninfotech alwar','challenging',\n",
    "                   'ltd', 'searching', 'role', 'excellent','dedicated', 'prove', 'get', 'house', 'never', 'regret', 'hiring', 'positive', 'attitude', \n",
    "                   'towards', 'life', 'assure','skill', 'correlate', 'extract', 'kind', 'data', 'provided', 'ultimate', 'goal', 'make', 'contribution', \n",
    "                   'efficient', 'fastest', 'model','self', 'give', 'organisation', 'capable', 'following', 'established','30', '45', 'days', 'none', 'none',\n",
    "                   'in', 'improve', 'none', 'aunico', 'finding', 'none', '2', 'knowledge', 'ktu',' 2', 'notice', 'period','bent', 'mind', 'better', 'communication']))\n",
    "\n",
    "tokens_vs_stop = word_tokenize(corpus)\n",
    "fin_corpus = [word for word in tokens_vs_stop if not word in all_stopwords_gensim]\n",
    "\n",
    "print(len(fin_corpus))"
   ]
  },
  {
   "cell_type": "code",
   "execution_count": 45,
   "id": "0067dfe7-94ad-4cdf-9a91-1389e73588fa",
   "metadata": {},
   "outputs": [
    {
     "data": {
      "image/png": "[encoded data removed]",
      "text/plain": [
       "<Figure size 1080x504 with 1 Axes>"
      ]
     },
     "metadata": {
      "needs_background": "light"
     },
     "output_type": "display_data"
    },
    {
     "data": {
      "text/plain": [
       "<AxesSubplot:xlabel='Samples', ylabel='Counts'>"
      ]
     },
     "execution_count": 45,
     "metadata": {},
     "output_type": "execute_result"
    }
   ],
   "source": [
    "freq_dist = nltk.FreqDist(fin_corpus)\n",
    "plt.subplots(figsize=(15,7))\n",
    "freq_dist.plot(30)"
   ]
  },
  {
   "cell_type": "code",
   "execution_count": 46,
   "id": "73c97aa3-4185-4bcd-9007-951ceabda4a7",
   "metadata": {},
   "outputs": [
    {
     "data": {
      "text/plain": [
       "[('developer', 4461),\n",
       " ('software', 1016),\n",
       " ('php', 765),\n",
       " ('python', 648),\n",
       " ('web', 614),\n",
       " ('java', 515),\n",
       " ('engineer', 502),\n",
       " ('machine', 350),\n",
       " ('pvt', 343),\n",
       " ('development', 295),\n",
       " ('stack', 292),\n",
       " ('technologies', 237),\n",
       " ('android', 213),\n",
       " ('senior', 197),\n",
       " ('science', 184),\n",
       " ('scientist', 182),\n",
       " ('ui', 177),\n",
       " ('technology', 165),\n",
       " ('manager', 145),\n",
       " ('application', 142),\n",
       " ('solutions', 134),\n",
       " ('analyst', 122),\n",
       " ('deep', 122),\n",
       " ('fresher', 121),\n",
       " ('having', 118),\n",
       " ('management', 106),\n",
       " ('engineering', 103),\n",
       " ('lead', 103),\n",
       " ('angular', 98),\n",
       " ('technical', 96),\n",
       " ('sr', 95),\n",
       " ('professional', 93),\n",
       " ('end', 93),\n",
       " ('business', 92),\n",
       " ('sql', 88),\n",
       " ('django', 88),\n",
       " ('ai', 85),\n",
       " ('project', 81),\n",
       " ('associate', 80),\n",
       " ('frontend', 79),\n",
       " ('hadoop', 74),\n",
       " ('javascript', 72),\n",
       " ('team', 71),\n",
       " ('analytics', 70),\n",
       " ('js', 68),\n",
       " ('consultant', 67),\n",
       " ('auditor', 67),\n",
       " ('html', 65),\n",
       " ('ios', 65),\n",
       " ('vision', 64)]"
      ]
     },
     "execution_count": 46,
     "metadata": {},
     "output_type": "execute_result"
    }
   ],
   "source": [
    "mostcommon = freq_dist.most_common(50)\n",
    "mostcommon"
   ]
  },
  {
   "cell_type": "code",
   "execution_count": 47,
   "id": "74fff2dd-3a46-4366-9728-c1013f1badd9",
   "metadata": {},
   "outputs": [],
   "source": [
    "from sklearn.feature_extraction.text import CountVectorizer\n",
    "from sklearn.feature_extraction.text import TfidfTransformer"
   ]
  },
  {
   "cell_type": "code",
   "execution_count": 52,
   "id": "ac74b010-c4ce-4f6f-b803-0842714ddeb0",
   "metadata": {},
   "outputs": [
    {
     "name": "stdout",
     "output_type": "stream",
     "text": [
      "(28364, 3806)\n"
     ]
    }
   ],
   "source": [
    "#Count Vectoriser then tidf transformer\n",
    "\n",
    "vectorizer = CountVectorizer()\n",
    "X = vectorizer.fit_transform(fin_corpus)\n",
    "\n",
    "#vectorizer.get_feature_names()\n",
    "\n",
    "#print(X.toarray())     \n",
    "\n",
    "from sklearn.feature_extraction.text import TfidfTransformer\n",
    "\n",
    "transformer = TfidfTransformer(smooth_idf=False)\n",
    "tfidf = transformer.fit_transform(X)\n",
    "print(tfidf.shape )                        "
   ]
  },
  {
   "cell_type": "code",
   "execution_count": 53,
   "id": "399cb992-8743-4d5e-a327-9711b3c35ee0",
   "metadata": {},
   "outputs": [
    {
     "data": {
      "image/png": "[encoded data removed]",
      "text/plain": [
       "<Figure size 432x288 with 1 Axes>"
      ]
     },
     "metadata": {
      "needs_background": "light"
     },
     "output_type": "display_data"
    }
   ],
   "source": [
    "from sklearn.cluster import KMeans\n",
    "wcss = []\n",
    "for i in range(1,11):\n",
    "    kmeans = KMeans(n_clusters=i,init='k-means++',max_iter=300,n_init=10,random_state=0)\n",
    "    kmeans.fit(X)\n",
    "    wcss.append(kmeans.inertia_)\n",
    "plt.plot(range(1,11),wcss)\n",
    "plt.title('The Elbow Method')\n",
    "plt.xlabel('Number of clusters')\n",
    "plt.ylabel('WCSS')\n",
    "plt.savefig('elbow.png')\n",
    "plt.show()"
   ]
  },
  {
   "cell_type": "code",
   "execution_count": 66,
   "id": "a1804e31-9ba9-4182-a058-9ae7a47882cb",
   "metadata": {},
   "outputs": [],
   "source": [
    "num_clusters = 3 #Change it according to your data.\n",
    "km = KMeans(n_clusters=num_clusters,init='k-means++',max_iter=300,n_init=10,random_state=0)\n",
    "km.fit(tfidf)\n",
    "clusters = km.labels_.tolist()"
   ]
  },
  {
   "cell_type": "code",
   "execution_count": 67,
   "id": "82f23b48-7371-4caf-9fb8-b21c58a14d31",
   "metadata": {},
   "outputs": [
    {
     "name": "stdout",
     "output_type": "stream",
     "text": [
      "\n",
      "\n",
      "<bound method NDFrame.head of            Idea  Cluster\n",
      "0          java        0\n",
      "1     developer        1\n",
      "2      software        2\n",
      "1     developer        1\n",
      "0          java        0\n",
      "..          ...      ...\n",
      "0           cro        0\n",
      "0        office        0\n",
      "0    operations        0\n",
      "0            hr        0\n",
      "0   coordinator        0\n",
      "\n",
      "[28364 rows x 2 columns]>\n",
      "\n",
      "\n",
      "0    22887\n",
      "1     4461\n",
      "2     1016\n",
      "Name: Cluster, dtype: int64\n"
     ]
    }
   ],
   "source": [
    "idea={'Idea':fin_corpus, 'Cluster':clusters} #Creating dict having doc with the corresponding cluster number.\n",
    "frame= pd.DataFrame(idea,index=[clusters], columns=['Idea','Cluster']) # Converting it into a dataframe.\n",
    "print(\"\\n\")\n",
    "print(frame.head) #Print the doc with the labeled cluster number.\n",
    "print(\"\\n\")\n",
    "print(frame['Cluster'].value_counts()) #Print the counts of doc belonging to each cluster."
   ]
  },
  {
   "cell_type": "code",
   "execution_count": 68,
   "id": "bc991d0c-73d5-447a-9a58-ffbfd034321e",
   "metadata": {},
   "outputs": [
    {
     "name": "stderr",
     "output_type": "stream",
     "text": [
      "C:\\Users\\Quynhfox\\anaconda3\\lib\\site-packages\\sklearn\\cluster\\_kmeans.py:792: FutureWarning: 'n_jobs' was deprecated in version 0.23 and will be removed in 1.0 (renaming of 0.25).\n",
      "  warnings.warn(\"'n_jobs' was deprecated in version 0.23 and will be\"\n"
     ]
    },
    {
     "name": "stdout",
     "output_type": "stream",
     "text": [
      "0 : python, tremendously, pl, pvt, developer, aspnet, infotech, pvt, bsc, insurance, kafka, field, player, challenges, assurance, architect, senior, ui, leader, technician, technical, enable, laravel, developer, php\n",
      "1 : codeigniter, pvt, management, associate, rajendran, poovizhi, developer, php, developer, web, php, development, php, program, internship, developer, php, canada, planning, developer, web, developer, php, developer, php\n",
      "2 : business, pvt, developer, associate, rajendran, poovizhi, developer, php, developer, web, php, development, php, program, internship, php, developer, canada, planning, developer, web, developer, php, developer, php\n"
     ]
    }
   ],
   "source": [
    "# 3 Clusters\n",
    "kmeans = KMeans(n_clusters = 3, n_init = 20, n_jobs = 1) # n_init(number of iterations for clsutering) n_jobs(number of cpu cores to use)\n",
    "kmeans.fit(X)\n",
    "# We look at 3 the clusters generated by k-means.\n",
    "common_words = kmeans.cluster_centers_.argsort()[:,-1:-26:-1]\n",
    "for num, centroid in enumerate(common_words):\n",
    "    print(str(num) + ' : ' + ', '.join(fin_corpus[word] for word in centroid))"
   ]
  },
  {
   "cell_type": "code",
   "execution_count": 69,
   "id": "cd6a2c95-7583-4d56-ba56-9b0a915a1d34",
   "metadata": {},
   "outputs": [
    {
     "name": "stderr",
     "output_type": "stream",
     "text": [
      "C:\\Users\\Quynhfox\\anaconda3\\lib\\site-packages\\sklearn\\cluster\\_kmeans.py:792: FutureWarning: 'n_jobs' was deprecated in version 0.23 and will be removed in 1.0 (renaming of 0.25).\n",
      "  warnings.warn(\"'n_jobs' was deprecated in version 0.23 and will be\"\n"
     ]
    },
    {
     "name": "stdout",
     "output_type": "stream",
     "text": [
      "0 : python, tremendously, pl, pvt, developer, pvt, bsc, insurance, kafka, field, player, challenges, assurance, architect, senior, ui, leader, technician, technical, enable, laravel, developer, php, php, javascriptjquery\n",
      "1 : business, pvt, developer, associate, rajendran, poovizhi, developer, php, developer, web, php, development, php, program, internship, php, developer, canada, planning, developer, web, developer, php, developer, php\n",
      "2 : codeigniter, pvt, management, associate, rajendran, poovizhi, developer, php, developer, web, php, development, php, program, internship, developer, php, canada, planning, developer, web, developer, php, developer, php\n",
      "3 : infotech, pvt, developer, rajendran, poovizhi, developer, php, developer, web, php, development, php, program, internship, php, php, canada, planning, developer, web, developer, php, developer, php, developer\n",
      "4 : aspnet, pvt, developer, associate, rajendran, poovizhi, developer, php, developer, web, php, development, php, program, internship, developer, php, canada, planning, developer, web, developer, php, developer, php\n"
     ]
    }
   ],
   "source": [
    "# 5 Clusters\n",
    "kmeans = KMeans(n_clusters = 5, n_init = 20, n_jobs = 1)\n",
    "kmeans.fit(X)\n",
    "# We look at 5 the clusters generated by k-means.\n",
    "common_words = kmeans.cluster_centers_.argsort()[:,-1:-26:-1]\n",
    "for num, centroid in enumerate(common_words):\n",
    "    print(str(num) + ' : ' + ', '.join(fin_corpus[word] for word in centroid))"
   ]
  },
  {
   "cell_type": "code",
   "execution_count": null,
   "id": "1f3c719f-7c6c-4ae1-8a5f-506a4501c8ae",
   "metadata": {},
   "outputs": [],
   "source": []
  }
 ],
 "metadata": {
  "kernelspec": {
   "display_name": "Python 3",
   "language": "python",
   "name": "python3"
  },
  "language_info": {
   "codemirror_mode": {
    "name": "ipython",
    "version": 3
   },
   "file_extension": ".py",
   "mimetype": "text/x-python",
   "name": "python",
   "nbconvert_exporter": "python",
   "pygments_lexer": "ipython3",
   "version": "3.8.3"
  }
 },
 "nbformat": 4,
 "nbformat_minor": 5
}
